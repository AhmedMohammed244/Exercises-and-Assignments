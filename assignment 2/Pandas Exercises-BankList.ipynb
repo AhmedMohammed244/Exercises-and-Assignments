{
 "cells": [
  {
   "cell_type": "markdown",
   "metadata": {},
   "source": [
    "# Pandas Exercises"
   ]
  },
  {
   "cell_type": "markdown",
   "metadata": {},
   "source": [
    "Time to test your pandas skills! Use the csv file to complete the tasks in bold below!\n",
    "\n"
   ]
  },
  {
   "cell_type": "markdown",
   "metadata": {},
   "source": [
    "** Import pandas and read in the banklist.csv file into a dataframe called banks. **"
   ]
  },
  {
   "cell_type": "code",
   "execution_count": null,
   "metadata": {},
   "outputs": [],
   "source": [
    "import pandas as pd"
   ]
  },
  {
   "cell_type": "code",
   "execution_count": 3,
   "metadata": {},
   "outputs": [],
   "source": [
    "banks = pd.read_csv('banklist.csv')"
   ]
  },
  {
   "cell_type": "markdown",
   "metadata": {},
   "source": [
    "** Show the head of the dataframe **"
   ]
  },
  {
   "cell_type": "code",
   "execution_count": 4,
   "metadata": {},
   "outputs": [],
   "source": [
    "# CODE HERE\n"
   ]
  },
  {
   "cell_type": "code",
   "execution_count": 5,
   "metadata": {},
   "outputs": [
    {
     "data": {
      "text/html": [
       "<div>\n",
       "<style scoped>\n",
       "    .dataframe tbody tr th:only-of-type {\n",
       "        vertical-align: middle;\n",
       "    }\n",
       "\n",
       "    .dataframe tbody tr th {\n",
       "        vertical-align: top;\n",
       "    }\n",
       "\n",
       "    .dataframe thead th {\n",
       "        text-align: right;\n",
       "    }\n",
       "</style>\n",
       "<table border=\"1\" class=\"dataframe\">\n",
       "  <thead>\n",
       "    <tr style=\"text-align: right;\">\n",
       "      <th></th>\n",
       "      <th>Bank Name</th>\n",
       "      <th>City</th>\n",
       "      <th>ST</th>\n",
       "      <th>CERT</th>\n",
       "      <th>Acquiring Institution</th>\n",
       "      <th>Closing Date</th>\n",
       "      <th>Updated Date</th>\n",
       "    </tr>\n",
       "  </thead>\n",
       "  <tbody>\n",
       "    <tr>\n",
       "      <th>0</th>\n",
       "      <td>Fayette County Bank</td>\n",
       "      <td>Saint Elmo</td>\n",
       "      <td>IL</td>\n",
       "      <td>1802</td>\n",
       "      <td>United Fidelity Bank, fsb</td>\n",
       "      <td>26-May-17</td>\n",
       "      <td>1-Jun-17</td>\n",
       "    </tr>\n",
       "    <tr>\n",
       "      <th>1</th>\n",
       "      <td>Guaranty Bank, (d/b/a BestBank in Georgia &amp; Mi...</td>\n",
       "      <td>Milwaukee</td>\n",
       "      <td>WI</td>\n",
       "      <td>30003</td>\n",
       "      <td>First-Citizens Bank &amp; Trust Company</td>\n",
       "      <td>5-May-17</td>\n",
       "      <td>1-Jun-17</td>\n",
       "    </tr>\n",
       "    <tr>\n",
       "      <th>2</th>\n",
       "      <td>First NBC Bank</td>\n",
       "      <td>New Orleans</td>\n",
       "      <td>LA</td>\n",
       "      <td>58302</td>\n",
       "      <td>Whitney Bank</td>\n",
       "      <td>28-Apr-17</td>\n",
       "      <td>23-May-17</td>\n",
       "    </tr>\n",
       "    <tr>\n",
       "      <th>3</th>\n",
       "      <td>Proficio Bank</td>\n",
       "      <td>Cottonwood Heights</td>\n",
       "      <td>UT</td>\n",
       "      <td>35495</td>\n",
       "      <td>Cache Valley Bank</td>\n",
       "      <td>3-Mar-17</td>\n",
       "      <td>18-May-17</td>\n",
       "    </tr>\n",
       "    <tr>\n",
       "      <th>4</th>\n",
       "      <td>Seaway Bank and Trust Company</td>\n",
       "      <td>Chicago</td>\n",
       "      <td>IL</td>\n",
       "      <td>19328</td>\n",
       "      <td>State Bank of Texas</td>\n",
       "      <td>27-Jan-17</td>\n",
       "      <td>18-May-17</td>\n",
       "    </tr>\n",
       "  </tbody>\n",
       "</table>\n",
       "</div>"
      ],
      "text/plain": [
       "                                           Bank Name                City  ST  \\\n",
       "0                                Fayette County Bank          Saint Elmo  IL   \n",
       "1  Guaranty Bank, (d/b/a BestBank in Georgia & Mi...           Milwaukee  WI   \n",
       "2                                     First NBC Bank         New Orleans  LA   \n",
       "3                                      Proficio Bank  Cottonwood Heights  UT   \n",
       "4                      Seaway Bank and Trust Company             Chicago  IL   \n",
       "\n",
       "    CERT                Acquiring Institution Closing Date Updated Date  \n",
       "0   1802            United Fidelity Bank, fsb    26-May-17     1-Jun-17  \n",
       "1  30003  First-Citizens Bank & Trust Company     5-May-17     1-Jun-17  \n",
       "2  58302                         Whitney Bank    28-Apr-17    23-May-17  \n",
       "3  35495                    Cache Valley Bank     3-Mar-17    18-May-17  \n",
       "4  19328                  State Bank of Texas    27-Jan-17    18-May-17  "
      ]
     },
     "execution_count": 5,
     "metadata": {},
     "output_type": "execute_result"
    }
   ],
   "source": [
    "banks.head()"
   ]
  },
  {
   "cell_type": "markdown",
   "metadata": {},
   "source": [
    "** What are the column names? **"
   ]
  },
  {
   "cell_type": "code",
   "execution_count": 6,
   "metadata": {},
   "outputs": [],
   "source": [
    "# CODE HERE"
   ]
  },
  {
   "cell_type": "code",
   "execution_count": 7,
   "metadata": {},
   "outputs": [
    {
     "name": "stdout",
     "output_type": "stream",
     "text": [
      "Index(['Bank Name', 'City', 'ST', 'CERT', 'Acquiring Institution',\n",
      "       'Closing Date', 'Updated Date'],\n",
      "      dtype='object')\n"
     ]
    }
   ],
   "source": [
    "names = banks.columns\n",
    "print(names)"
   ]
  },
  {
   "cell_type": "markdown",
   "metadata": {},
   "source": [
    "** How many States (ST) are represented in this data set? **"
   ]
  },
  {
   "cell_type": "code",
   "execution_count": 8,
   "metadata": {},
   "outputs": [
    {
     "data": {
      "text/plain": [
       "(551,)"
      ]
     },
     "execution_count": 8,
     "metadata": {},
     "output_type": "execute_result"
    }
   ],
   "source": [
    "# CODE HERE\n",
    "banks['ST'].shape"
   ]
  },
  {
   "cell_type": "code",
   "execution_count": 9,
   "metadata": {},
   "outputs": [
    {
     "name": "stdout",
     "output_type": "stream",
     "text": [
      "551\n"
     ]
    }
   ],
   "source": [
    "len_of_st = banks['ST']\n",
    "print(len(len_of_st))\n"
   ]
  },
  {
   "cell_type": "markdown",
   "metadata": {},
   "source": [
    "** Get a list or array of all the states in the data set. **"
   ]
  },
  {
   "cell_type": "code",
   "execution_count": 10,
   "metadata": {},
   "outputs": [
    {
     "name": "stdout",
     "output_type": "stream",
     "text": [
      "['IL', 'WI', 'LA', 'UT', 'IL', 'NJ', 'AR', 'GA', 'PA', 'TN', 'WI', 'WA', 'GA', 'CO', 'IL', 'PR', 'GA', 'IL', 'FL', 'MN', 'CA', 'IL', 'MD', 'IL', 'GA', 'OK', 'FL', 'IL', 'MD', 'OH', 'IL', 'SC', 'PA', 'VA', 'ID', 'OK', 'IL', 'TX', 'FL', 'TX', 'CT', 'AZ', 'TN', 'WI', 'FL', 'TN', 'NV', 'WI', 'AZ', 'GA', 'NC', 'GA', 'NC', 'FL', 'FL', 'KY', 'AZ', 'GA', 'IL', 'MN', 'WA', 'MO', 'GA', 'IL', 'FL', 'PA', 'MO', 'FL', 'FL', 'IL', 'MO', 'MN', 'IL', 'GA', 'IL', 'KS', 'GA', 'GA', 'FL', 'MO', 'GA', 'TN', 'GA', 'FL', 'NC', 'IL', 'SC', 'OK', 'AL', 'FL', 'CA', 'SC', 'MN', 'MD', 'MD', 'NJ', 'MI', 'IL', 'GA', 'IL', 'GA', 'MN', 'GA', 'IN', 'IL', 'TN', 'MN', 'TN', 'FL', 'PA', 'GA', 'FL', 'AZ', 'FL', 'LA', 'IA', 'GA', 'UT', 'NE', 'IL', 'CO', 'GA', 'GA', 'FL', 'IL', 'NJ', 'NC', 'GA', 'MO', 'MN', 'TX', 'CA', 'VA', 'FL', 'GA', 'GA', 'IL', 'GA', 'FL', 'PA', 'KS', 'WA', 'IL', 'IN', 'SC', 'VA', 'CO', 'FL', 'FL', 'AZ', 'FL', 'GA', 'GA', 'CO', 'CO', 'IL', 'GA', 'FL', 'GA', 'SC', 'WA', 'WA', 'GA', 'GA', 'FL', 'MI', 'GA', 'GA', 'FL', 'FL', 'MS', 'MN', 'AL', 'AL', 'GA', 'GA', 'NV', 'IL', 'IL', 'WI', 'OK', 'IL', 'CA', 'CA', 'GA', 'GA', 'CA', 'WI', 'MI', 'FL', 'IL', 'GA', 'GA', 'NM', 'CO', 'WI', 'OK', 'CO', 'NC', 'SC', 'GA', 'GA', 'AZ', 'FL', 'MN', 'AR', 'GA', 'GA', 'GA', 'FL', 'PA', 'MI', 'WI', 'PA', 'FL', 'AZ', 'GA', 'GA', 'CA', 'WA', 'CA', 'MD', 'AZ', 'KS', 'IL', 'GA', 'GA', 'FL', 'FL', 'MO', 'MO', 'KS', 'WA', 'FL', 'WA', 'FL', 'WI', 'OH', 'GA', 'GA', 'GA', 'NJ', 'FL', 'CA', 'CA', 'CA', 'CA', 'IL', 'VA', 'FL', 'FL', 'IL', 'IL', 'OR', 'WA', 'FL', 'FL', 'GA', 'OR', 'NV', 'MN', 'KS', 'SC', 'GA', 'FL', 'MI', 'FL', 'FL', 'FL', 'SC', 'SC', 'OK', 'NY', 'MD', 'MD', 'NM', 'GA', 'FL', 'NV', 'WA', 'NE', 'IL', 'MS', 'NV', 'CA', 'FL', 'FL', 'FL', 'MN', 'IL', 'MO', 'MI', 'GA', 'CA', 'AZ', 'MN', 'FL', 'WA', 'MO', 'MO', 'MI', 'PR', 'PR', 'PR', 'IL', 'IL', 'IL', 'IL', 'IL', 'IL', 'IL', 'WA', 'CA', 'CA', 'MA', 'FL', 'FL', 'FL', 'MI', 'SC', 'AZ', 'GA', 'FL', 'GA', 'MN', 'AL', 'GA', 'GA', 'UT', 'GA', 'OH', 'LA', 'FL', 'NY', 'NY', 'UT', 'MD', 'IL', 'FL', 'WA', 'NV', 'CA', 'IL', 'TX', 'FL', 'MN', 'WA', 'CA', 'GA', 'MN', 'FL', 'GA', 'OR', 'WA', 'NM', 'MO', 'FL', 'UT', 'MN', 'IL', 'WA', 'CA', 'CA', 'IL', 'AL', 'MI', 'FL', 'GA', 'KS', 'AZ', 'FL', 'VA', 'IL', 'OH', 'GA', 'GA', 'GA', 'FL', 'CA', 'FL', 'FL', 'CA', 'MO', 'MN', 'MI', 'GA', 'TX', 'TX', 'TX', 'IL', 'CA', 'CA', 'CA', 'IL', 'AZ', 'IL', 'MN', 'WI', 'FL', 'FL', 'GA', 'FL', 'CA', 'CO', 'MN', 'MI', 'GA', 'KY', 'IN', 'WA', 'MN', 'IL', 'AZ', 'IL', 'IA', 'IL', 'MO', 'CA', 'MN', 'MD', 'TX', 'AL', 'GA', 'GA', 'NV', 'AZ', 'AZ', 'AL', 'PA', 'OR', 'FL', 'FL', 'IL', 'NJ', 'OH', 'FL', 'OK', 'GA', 'GA', 'GA', 'GA', 'GA', 'GA', 'NY', 'CA', 'CA', 'SD', 'GA', 'WY', 'IL', 'TX', 'IL', 'IL', 'IL', 'IL', 'IL', 'CA', 'CA', 'MN', 'GA', 'GA', 'KS', 'NC', 'GA', 'IL', 'IL', 'IL', 'FL', 'WA', 'UT', 'NJ', 'GA', 'ID', 'CA', 'MI', 'GA', 'NV', 'MO', 'CO', 'NC', 'GA', 'KS', 'CO', 'GA', 'GA', 'NV', 'IL', 'OR', 'OR', 'IL', 'FL', 'NE', 'CA', 'CA', 'GA', 'FL', 'MD', 'UT', 'CA', 'WA', 'IL', 'TX', 'GA', 'GA', 'CA', 'CA', 'GA', 'CA', 'TX', 'FL', 'GA', 'IL', 'MI', 'NV', 'WV', 'NV', 'GA', 'KS', 'FL', 'CA', 'NV', 'CA', 'MN', 'AR', 'MO', 'MO', 'OH', 'GA', 'PA', 'UT', 'NY', 'FL', 'NJ', 'PA', 'WI', 'CA', 'LA', 'TN', 'GA', 'CT', 'MI', 'FL', 'AZ', 'OH', 'TX', 'FL', 'IL', 'OH', 'NH', 'IL', 'HI']\n"
     ]
    }
   ],
   "source": [
    "# CODE HERE\n",
    "list_st = banks['ST'].tolist()\n",
    "print(list_st)"
   ]
  },
  {
   "cell_type": "code",
   "execution_count": 11,
   "metadata": {},
   "outputs": [
    {
     "name": "stdout",
     "output_type": "stream",
     "text": [
      "['IL' 'WI' 'LA' 'UT' 'NJ' 'AR' 'GA' 'PA' 'TN' 'WA' 'CO' 'PR' 'FL' 'MN'\n",
      " 'CA' 'MD' 'OK' 'OH' 'SC' 'VA' 'ID' 'TX' 'CT' 'AZ' 'NV' 'NC' 'KY' 'MO'\n",
      " 'KS' 'AL' 'MI' 'IN' 'IA' 'NE' 'MS' 'NM' 'OR' 'NY' 'MA' 'SD' 'WY' 'WV'\n",
      " 'NH' 'HI']\n"
     ]
    }
   ],
   "source": [
    "uni_st = banks['ST'].unique()\n",
    "print(uni_st)"
   ]
  },
  {
   "cell_type": "markdown",
   "metadata": {},
   "source": [
    "** What are the top 5 states with the most failed banks? **"
   ]
  },
  {
   "cell_type": "code",
   "execution_count": 12,
   "metadata": {
    "scrolled": true
   },
   "outputs": [],
   "source": [
    "# CODE HERE"
   ]
  },
  {
   "cell_type": "code",
   "execution_count": 39,
   "metadata": {},
   "outputs": [
    {
     "name": "stdout",
     "output_type": "stream",
     "text": [
      "ST\n",
      "GA    93\n",
      "FL    75\n",
      "IL    67\n",
      "CA    41\n",
      "MN    23\n",
      "Name: count, dtype: int64\n"
     ]
    }
   ],
   "source": [
    "faild_st = banks[banks['Acquiring Institution'].notnull()]\n",
    "num_faild_st = faild_st['ST'].value_counts()\n",
    "top5 = num_faild_st.head()\n",
    "print(top5)"
   ]
  },
  {
   "cell_type": "markdown",
   "metadata": {},
   "source": [
    "** What are the top 5 acquiring institutions? **"
   ]
  },
  {
   "cell_type": "code",
   "execution_count": 14,
   "metadata": {},
   "outputs": [],
   "source": [
    "# CODE HERE"
   ]
  },
  {
   "cell_type": "code",
   "execution_count": 15,
   "metadata": {},
   "outputs": [
    {
     "data": {
      "text/plain": [
       "0              United Fidelity Bank, fsb\n",
       "1    First-Citizens Bank & Trust Company\n",
       "2                           Whitney Bank\n",
       "3                      Cache Valley Bank\n",
       "4                    State Bank of Texas\n",
       "Name: Acquiring Institution, dtype: object"
      ]
     },
     "execution_count": 15,
     "metadata": {},
     "output_type": "execute_result"
    }
   ],
   "source": [
    "banks['Acquiring Institution'].head()"
   ]
  },
  {
   "cell_type": "markdown",
   "metadata": {},
   "source": [
    "** How many banks has the State Bank of Texas acquired? How many of them were actually in Texas?**"
   ]
  },
  {
   "cell_type": "code",
   "execution_count": 16,
   "metadata": {},
   "outputs": [],
   "source": [
    "# CODE HERE"
   ]
  },
  {
   "cell_type": "code",
   "execution_count": 17,
   "metadata": {},
   "outputs": [
    {
     "name": "stdout",
     "output_type": "stream",
     "text": [
      "3\n"
     ]
    }
   ],
   "source": [
    "total_texas_acq = banks[banks['Acquiring Institution'] == 'State Bank of Texas']\n",
    "print(len(total_texas_acq))"
   ]
  },
  {
   "cell_type": "code",
   "execution_count": 24,
   "metadata": {},
   "outputs": [
    {
     "name": "stdout",
     "output_type": "stream",
     "text": [
      "1\n"
     ]
    }
   ],
   "source": [
    "total_actually_texas = total_texas_acq[total_texas_acq['ST'] == 'TX']\n",
    "print(len(total_actually_texas))"
   ]
  },
  {
   "cell_type": "markdown",
   "metadata": {},
   "source": [
    "** What is the most common city in California for a bank to fail in?**"
   ]
  },
  {
   "cell_type": "code",
   "execution_count": 18,
   "metadata": {},
   "outputs": [],
   "source": [
    "# CODE HERE"
   ]
  },
  {
   "cell_type": "code",
   "execution_count": 34,
   "metadata": {},
   "outputs": [
    {
     "name": "stdout",
     "output_type": "stream",
     "text": [
      "Los Angeles\n"
     ]
    }
   ],
   "source": [
    "fail_banks = banks[(banks['ST'] == 'CA') & (banks['Acquiring Institution'].notnull())]\n",
    "comm_city_count = fail_banks['City'].value_counts()\n",
    "\n",
    "most_common = comm_city_count.idxmax()\n",
    "print(most_common)"
   ]
  },
  {
   "cell_type": "markdown",
   "metadata": {},
   "source": [
    "** How many failed banks don't have the word \"Bank\" in their name? **"
   ]
  },
  {
   "cell_type": "code",
   "execution_count": 19,
   "metadata": {},
   "outputs": [],
   "source": [
    "# CODE HERE"
   ]
  },
  {
   "cell_type": "code",
   "execution_count": 38,
   "metadata": {},
   "outputs": [
    {
     "name": "stdout",
     "output_type": "stream",
     "text": [
      "1\n"
     ]
    }
   ],
   "source": [
    "faild_banks = banks[banks['Acquiring Institution'].notnull()]\n",
    "not_have = fail_banks[~fail_banks['Bank Name'].str.contains('Bank', case= False , na= False)]\n",
    "print(len(not_have))"
   ]
  },
  {
   "cell_type": "markdown",
   "metadata": {},
   "source": [
    "** How many bank names start with the letter 's' ? **"
   ]
  },
  {
   "cell_type": "code",
   "execution_count": 20,
   "metadata": {},
   "outputs": [],
   "source": [
    "# CODE HERE"
   ]
  },
  {
   "cell_type": "code",
   "execution_count": 45,
   "metadata": {},
   "outputs": [
    {
     "name": "stdout",
     "output_type": "stream",
     "text": [
      "53\n"
     ]
    }
   ],
   "source": [
    "start_with_s = banks[banks['Bank Name'].str.startswith('S' , na= False)]\n",
    "count_start = start_with_s.shape[0]\n",
    "print(count_start)\n"
   ]
  },
  {
   "cell_type": "markdown",
   "metadata": {},
   "source": [
    "** How many CERT values are above 20000 ? **"
   ]
  },
  {
   "cell_type": "code",
   "execution_count": 21,
   "metadata": {},
   "outputs": [],
   "source": [
    "# CODE HERE"
   ]
  },
  {
   "cell_type": "code",
   "execution_count": 48,
   "metadata": {},
   "outputs": [
    {
     "name": "stdout",
     "output_type": "stream",
     "text": [
      "417\n"
     ]
    }
   ],
   "source": [
    "value = banks[banks['CERT'] > 20000]\n",
    "print(len(value))"
   ]
  },
  {
   "cell_type": "markdown",
   "metadata": {},
   "source": [
    "** How many bank names consist of just two words? (e.g. \"First Bank\" , \"Bank Georgia\" )**"
   ]
  },
  {
   "cell_type": "code",
   "execution_count": 22,
   "metadata": {},
   "outputs": [],
   "source": [
    "# CODE HERE"
   ]
  },
  {
   "cell_type": "code",
   "execution_count": 49,
   "metadata": {},
   "outputs": [
    {
     "name": "stdout",
     "output_type": "stream",
     "text": [
      "114\n"
     ]
    }
   ],
   "source": [
    "just_two_words = banks[banks['Bank Name'].apply(lambda x: len(x.split()) == 2)]\n",
    "print(just_two_words.shape[0])"
   ]
  },
  {
   "cell_type": "markdown",
   "metadata": {},
   "source": [
    "How many banks closed in the year 2008?"
   ]
  },
  {
   "cell_type": "code",
   "execution_count": 23,
   "metadata": {},
   "outputs": [],
   "source": [
    "# CODE HERE"
   ]
  },
  {
   "cell_type": "code",
   "execution_count": 60,
   "metadata": {},
   "outputs": [
    {
     "name": "stdout",
     "output_type": "stream",
     "text": [
      "25\n"
     ]
    }
   ],
   "source": [
    "banks['Closing Date'] = pd.to_datetime(banks['Closing Date'],format='%d-%m-%y' , errors='coerce')\n",
    "closed = banks[banks['Closing Date'].dt.year == 2008]\n",
    "print(len(closed))"
   ]
  },
  {
   "cell_type": "markdown",
   "metadata": {},
   "source": [
    "# GREAT JOB!"
   ]
  }
 ],
 "metadata": {
  "kernelspec": {
   "display_name": "base",
   "language": "python",
   "name": "python3"
  },
  "language_info": {
   "codemirror_mode": {
    "name": "ipython",
    "version": 3
   },
   "file_extension": ".py",
   "mimetype": "text/x-python",
   "name": "python",
   "nbconvert_exporter": "python",
   "pygments_lexer": "ipython3",
   "version": "3.11.7"
  }
 },
 "nbformat": 4,
 "nbformat_minor": 4
}
